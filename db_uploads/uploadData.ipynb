{
 "cells": [
  {
   "cell_type": "code",
   "execution_count": 2,
   "metadata": {},
   "outputs": [],
   "source": [
    "# Initialization\n",
    "\n",
    "import firebase_admin\n",
    "from firebase_admin import credentials, firestore\n",
    "import numpy as np\n",
    "import pandas as pd\n",
    "\n",
    "cred = credentials.Certificate(\"admin_key.json\")\n",
    "firebase_admin.initialize_app(cred)\n",
    "db = firestore.client()\n"
   ]
  },
  {
   "cell_type": "code",
   "execution_count": 22,
   "metadata": {},
   "outputs": [],
   "source": [
    "challenges = pd.read_csv(\"challenges.csv\")\n",
    "\n",
    "keys = challenges.keys()\n",
    "for index, row in challenges.iterrows():\n",
    "  newDoc = {}\n",
    "  for key in keys:\n",
    "    newDoc[key] = row[key]\n",
    "  newDoc[\"completedBy\"] = \"\"\n",
    "  db.collection(\"challenges\").document(\"Challenge \" + str(index)).set(newDoc)\n"
   ]
  },
  {
   "cell_type": "code",
   "execution_count": null,
   "metadata": {},
   "outputs": [],
   "source": []
  }
 ],
 "metadata": {
  "kernelspec": {
   "display_name": "Python 3",
   "language": "python",
   "name": "python3"
  },
  "language_info": {
   "codemirror_mode": {
    "name": "ipython",
    "version": 3
   },
   "file_extension": ".py",
   "mimetype": "text/x-python",
   "name": "python",
   "nbconvert_exporter": "python",
   "pygments_lexer": "ipython3",
   "version": "3.10.2"
  },
  "orig_nbformat": 4
 },
 "nbformat": 4,
 "nbformat_minor": 2
}
